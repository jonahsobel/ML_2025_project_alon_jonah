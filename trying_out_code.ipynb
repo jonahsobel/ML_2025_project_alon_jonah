{
 "cells": [
  {
   "cell_type": "code",
   "execution_count": 4,
   "id": "15fbb90f-d3fe-4e03-8977-ad478cf215a9",
   "metadata": {},
   "outputs": [],
   "source": [
    "from model import *"
   ]
  },
  {
   "cell_type": "code",
   "execution_count": 5,
   "id": "d6d26e32-b463-4dce-9dff-addcd9c6d8ea",
   "metadata": {},
   "outputs": [
    {
     "name": "stdout",
     "output_type": "stream",
     "text": [
      "TransformerModel(\n",
      "  (embed): Linear(in_features=1, out_features=64, bias=True)\n",
      "  (pos_encoder): PositionalEncoding()\n",
      "  (encoder): TransformerEncoder(\n",
      "    (layers): ModuleList(\n",
      "      (0-1): 2 x TransformerEncoderLayer(\n",
      "        (mha): MultiHeadAttention(\n",
      "          (W_Q): Linear(in_features=64, out_features=64, bias=True)\n",
      "          (W_K): Linear(in_features=64, out_features=64, bias=True)\n",
      "          (W_V): Linear(in_features=64, out_features=64, bias=True)\n",
      "          (attention): ScaledDotProductAttention(\n",
      "            (dropout): Dropout(p=0.1, inplace=False)\n",
      "          )\n",
      "          (fc): Linear(in_features=64, out_features=64, bias=True)\n",
      "          (dropout): Dropout(p=0.1, inplace=False)\n",
      "          (layernorm): LayerNorm((64,), eps=1e-05, elementwise_affine=True)\n",
      "        )\n",
      "        (ffn): PositionwiseFeedForward(\n",
      "          (fc1): Linear(in_features=64, out_features=128, bias=True)\n",
      "          (fc2): Linear(in_features=128, out_features=64, bias=True)\n",
      "          (dropout): Dropout(p=0.1, inplace=False)\n",
      "          (layernorm): LayerNorm((64,), eps=1e-05, elementwise_affine=True)\n",
      "        )\n",
      "      )\n",
      "    )\n",
      "  )\n",
      "  (decoder): Linear(in_features=64, out_features=1, bias=True)\n",
      ")\n"
     ]
    }
   ],
   "source": [
    "# Example instantiation and device move\n",
    "def build_model():\n",
    "    model = TransformerModel(\n",
    "        input_dim=1,\n",
    "        embed_dim=64,\n",
    "        num_layers=2,\n",
    "        num_heads=4,\n",
    "        ff_dim=128,\n",
    "        dropout=0.1\n",
    "    )\n",
    "    return model.to(device)\n",
    "\n",
    "\n",
    "model = build_model()\n",
    "print(model)"
   ]
  },
  {
   "cell_type": "code",
   "execution_count": null,
   "id": "14bc7b78-d556-4989-9f64-e47fbc56ca76",
   "metadata": {},
   "outputs": [],
   "source": []
  }
 ],
 "metadata": {
  "kernelspec": {
   "display_name": "Python 3 (ipykernel)",
   "language": "python",
   "name": "python3"
  },
  "language_info": {
   "codemirror_mode": {
    "name": "ipython",
    "version": 3
   },
   "file_extension": ".py",
   "mimetype": "text/x-python",
   "name": "python",
   "nbconvert_exporter": "python",
   "pygments_lexer": "ipython3",
   "version": "3.11.10"
  }
 },
 "nbformat": 4,
 "nbformat_minor": 5
}
