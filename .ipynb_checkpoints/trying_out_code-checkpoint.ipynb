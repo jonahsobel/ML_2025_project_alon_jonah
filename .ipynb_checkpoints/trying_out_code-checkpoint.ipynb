{
 "cells": [
  {
   "cell_type": "code",
   "execution_count": 1,
   "id": "33a0c675-4ed3-44e2-b242-08311c897bec",
   "metadata": {},
   "outputs": [],
   "source": [
    "# In your Jupyter notebook, you can use these modules like this:\n",
    "\n",
    "# Import the modules\n",
    "from transformer import build_model, create_causal_mask\n",
    "from training_kaggle import get_dataloader, train_steps, predict_next"
   ]
  },
  {
   "cell_type": "code",
   "execution_count": 2,
   "id": "dcbc17f2-fabc-4691-9c67-8fd95d27df67",
   "metadata": {},
   "outputs": [
    {
     "name": "stdout",
     "output_type": "stream",
     "text": [
      "Model built on device: cpu\n",
      "Model parameters: 790,529\n"
     ]
    }
   ],
   "source": [
    "# Build the model\n",
    "model, device = build_model(\n",
    "    d_model=256,      # Smaller model for faster training\n",
    "    num_heads=8,\n",
    "    num_layers=4,\n",
    "    d_ff=1024,\n",
    "    dropout=0.1\n",
    ")"
   ]
  },
  {
   "cell_type": "code",
   "execution_count": 3,
   "id": "cb9fab0e-af95-49c1-97ae-1583b2f95ca5",
   "metadata": {},
   "outputs": [
    {
     "name": "stdout",
     "output_type": "stream",
     "text": [
      "Computing global min/max for column 'Close'...\n",
      "Processed 100 chunks...\n",
      "Processed 200 chunks...\n",
      "Processed 300 chunks...\n",
      "Processed 400 chunks...\n",
      "Processed 500 chunks...\n",
      "Processed 600 chunks...\n",
      "Processed 700 chunks...\n",
      "Global min: 3.8, Global max: 111975.0\n"
     ]
    }
   ],
   "source": [
    "# Create dataloader (this will compute global min/max)\n",
    "csv_path = r\"C:\\\\Users\\\\jonah\\\\OneDrive\\\\Documents\\\\Weizmann\\\\Semester B 2025\\\\Applied_ML\\\\kaggle_BTC_data\\\\btcusd_1-min_data.csv\"\n",
    "seq_len = 100\n",
    "batch_size = 32\n",
    "\n",
    "dataloader, global_min, global_max = get_dataloader(\n",
    "    csv_path, seq_len, batch_size, col_name='Close'\n",
    ")"
   ]
  },
  {
   "cell_type": "code",
   "execution_count": 4,
   "id": "63aebb56-dd3d-4394-b768-bc012198dbf6",
   "metadata": {},
   "outputs": [
    {
     "name": "stdout",
     "output_type": "stream",
     "text": [
      "Starting training for 1000 steps...\n",
      "Step 100/1000, Average Loss: 0.035171\n"
     ]
    },
    {
     "name": "stderr",
     "output_type": "stream",
     "text": [
      "\n",
      "KeyboardInterrupt\n",
      "\n"
     ]
    }
   ],
   "source": [
    "# Train the model\n",
    "train_steps(\n",
    "    model=model,\n",
    "    dataloader=dataloader,\n",
    "    num_steps=1000,      # Adjust based on your needs\n",
    "    learning_rate=1e-4,\n",
    "    print_every=100\n",
    ")"
   ]
  },
  {
   "cell_type": "code",
   "execution_count": null,
   "id": "7ef77d09-6dbe-4200-a965-ea5eae3587de",
   "metadata": {},
   "outputs": [],
   "source": [
    "# Make a prediction\n",
    "predicted_price = predict_next(\n",
    "    model=model,\n",
    "    csv_path=csv_path,\n",
    "    seq_len=seq_len,\n",
    "    global_min=global_min,\n",
    "    global_max=global_max,\n",
    "    col_name='Close'\n",
    ")\n",
    "\n",
    "print(f\"The predicted next Bitcoin price is: ${predicted_price:.2f}\")"
   ]
  },
  {
   "cell_type": "code",
   "execution_count": null,
   "id": "2e58ba93-6ddb-4e7c-aebd-0e104b095018",
   "metadata": {},
   "outputs": [],
   "source": []
  }
 ],
 "metadata": {
  "kernelspec": {
   "display_name": "Python 3 (ipykernel)",
   "language": "python",
   "name": "python3"
  },
  "language_info": {
   "codemirror_mode": {
    "name": "ipython",
    "version": 3
   },
   "file_extension": ".py",
   "mimetype": "text/x-python",
   "name": "python",
   "nbconvert_exporter": "python",
   "pygments_lexer": "ipython3",
   "version": "3.11.10"
  }
 },
 "nbformat": 4,
 "nbformat_minor": 5
}
